{
  "nbformat": 4,
  "nbformat_minor": 0,
  "metadata": {
    "colab": {
      "provenance": [],
      "toc_visible": true,
      "authorship_tag": "ABX9TyPEbx2VlI+5RADeDY8IMwjm",
      "include_colab_link": true
    },
    "kernelspec": {
      "name": "ir",
      "display_name": "R"
    },
    "language_info": {
      "name": "R"
    }
  },
  "cells": [
    {
      "cell_type": "markdown",
      "metadata": {
        "id": "view-in-github",
        "colab_type": "text"
      },
      "source": [
        "<a href=\"https://colab.research.google.com/github/rshaikh95/datasci_5_statistics/blob/main/anova.ipynb\" target=\"_parent\"><img src=\"https://colab.research.google.com/assets/colab-badge.svg\" alt=\"Open In Colab\"/></a>"
      ]
    },
    {
      "cell_type": "code",
      "execution_count": null,
      "metadata": {
        "id": "3pSRQqMn_hnn"
      },
      "outputs": [],
      "source": [
        "\n",
        "df = read.csv(\"https://raw.githubusercontent.com/rshaikh95/datasci_5_statistics/main/datasets/healthcare-dataset-stroke-data.csv\")\n",
        "df"
      ]
    },
    {
      "cell_type": "code",
      "source": [
        "\n",
        "model <- aov(avg_glucose_level ~ work_type + Residence_type, data=df)\n",
        "summary(model)\n",
        "\n"
      ],
      "metadata": {
        "colab": {
          "base_uri": "https://localhost:8080/",
          "height": 121
        },
        "id": "rBva3QQbBq3D",
        "outputId": "209464b7-65cf-4313-f9df-2b290dc5bbe6"
      },
      "execution_count": 5,
      "outputs": [
        {
          "output_type": "display_data",
          "data": {
            "text/plain": [
              "                 Df   Sum Sq Mean Sq F value   Pr(>F)    \n",
              "work_type         4   134615   33654  16.610 1.57e-13 ***\n",
              "Residence_type    1      306     306   0.151    0.698    \n",
              "Residuals      5104 10341598    2026                     \n",
              "---\n",
              "Signif. codes:  0 ‘***’ 0.001 ‘**’ 0.01 ‘*’ 0.05 ‘.’ 0.1 ‘ ’ 1"
            ]
          },
          "metadata": {}
        }
      ]
    },
    {
      "cell_type": "markdown",
      "source": [
        "The average glucose levels differ across patients grouped by work type (e.g., children, gov't job, never worked, private, and self-employed).\n",
        "\n",
        "Null Hypothesis: H0: There is no relationship between average glucose levels and work type.\n",
        "\n",
        "Alternative Hypothesis: Ha: There is a relationship between average glucose levels and work type."
      ],
      "metadata": {
        "id": "qy9VexL7E8Fv"
      }
    },
    {
      "cell_type": "code",
      "source": [
        "means_by_work_type <- aggregate(avg_glucose_level ~ work_type, data=df, FUN=mean)\n",
        "print(means_by_work_type)"
      ],
      "metadata": {
        "colab": {
          "base_uri": "https://localhost:8080/"
        },
        "id": "H3XY-VaHB_ch",
        "outputId": "a48da34d-81e8-4cb4-d4e8-2c967c643073"
      },
      "execution_count": 6,
      "outputs": [
        {
          "output_type": "stream",
          "name": "stdout",
          "text": [
            "      work_type avg_glucose_level\n",
            "1      children          94.40028\n",
            "2      Govt_job         107.77977\n",
            "3  Never_worked          96.04273\n",
            "4       Private         106.79684\n",
            "5 Self-employed         112.64545\n"
          ]
        }
      ]
    },
    {
      "cell_type": "markdown",
      "source": [
        "Using a Stroke Prediction Dataset from Kaggle (link in readme of repo) I obtained a summary model using only columns average glucose levels, work type and residence type. I then aggregated the mean based on work type.\n",
        "\n",
        "I hypothesized that there is a relationship between average glucose levels and work type. As per the resullts, glucose levels were higher for jobs in general compared to raising children or never working. Also glucose levels were the highest in self employed persons over private and government jobs."
      ],
      "metadata": {
        "id": "BUHk6LizF-uK"
      }
    }
  ]
}