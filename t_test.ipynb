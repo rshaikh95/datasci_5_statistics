{
  "nbformat": 4,
  "nbformat_minor": 0,
  "metadata": {
    "colab": {
      "provenance": [],
      "authorship_tag": "ABX9TyN4bHrOXkjMbef8ujuRp+2m",
      "include_colab_link": true
    },
    "kernelspec": {
      "name": "python3",
      "display_name": "Python 3"
    },
    "language_info": {
      "name": "python"
    }
  },
  "cells": [
    {
      "cell_type": "markdown",
      "metadata": {
        "id": "view-in-github",
        "colab_type": "text"
      },
      "source": [
        "<a href=\"https://colab.research.google.com/github/rshaikh95/datasci_5_statistics/blob/main/t_test.ipynb\" target=\"_parent\"><img src=\"https://colab.research.google.com/assets/colab-badge.svg\" alt=\"Open In Colab\"/></a>"
      ]
    },
    {
      "cell_type": "code",
      "execution_count": 1,
      "metadata": {
        "id": "vWhHV6GbNLie"
      },
      "outputs": [],
      "source": [
        "import pandas as pd\n",
        "from scipy.stats import ttest_ind"
      ]
    },
    {
      "cell_type": "code",
      "source": [
        "# Read in the data\n",
        "df = pd.read_csv('/content/healthcare-dataset-stroke-data.csv') # noqa\n",
        "len(df)"
      ],
      "metadata": {
        "colab": {
          "base_uri": "https://localhost:8080/"
        },
        "id": "U72PivhcQ2Nl",
        "outputId": "4b8f29a2-a3b5-4f7e-a770-851fc07d9e6f"
      },
      "execution_count": 2,
      "outputs": [
        {
          "output_type": "execute_result",
          "data": {
            "text/plain": [
              "5110"
            ]
          },
          "metadata": {},
          "execution_count": 2
        }
      ]
    },
    {
      "cell_type": "code",
      "source": [
        "## keep only complete rows\n",
        "df = df.dropna()\n",
        "len(df)"
      ],
      "metadata": {
        "colab": {
          "base_uri": "https://localhost:8080/"
        },
        "id": "m2rVyzqgQ_cs",
        "outputId": "0e238613-334f-4c0b-9942-5a6a31d5ec9b"
      },
      "execution_count": 3,
      "outputs": [
        {
          "output_type": "execute_result",
          "data": {
            "text/plain": [
              "5110"
            ]
          },
          "metadata": {},
          "execution_count": 3
        }
      ]
    },
    {
      "cell_type": "markdown",
      "source": [
        "## My Hypothesis is that the BMI for patients who smoke is different than those who never smoked. (Only using private on work type in dataset)\n",
        "\n",
        "Null Hypothesis:  H0: There is no relationship between the BMI of people who smoke (private job) versus those who never smoked (private job).\n",
        "\n",
        "Alternative Hypothesis:  Ha: There is a relationship between the BMI of people who smoke (private job) versus those who never smoked (private job)."
      ],
      "metadata": {
        "id": "_iJQuUaoXDrj"
      }
    },
    {
      "cell_type": "code",
      "source": [
        "## create a new binary variable based on the smoking_status variable, where the value will be smoke/smoked or never smoked/smoked once # noqa\n",
        "## smoke: smokes, formerly smokes, tried smoking once\n",
        "## never smoked/tried once: never smoked\n",
        "\n",
        "## create a new variable called smoked\n",
        "df['did_smoke'] = df['smoking_status'].apply(lambda x: 'smoked' if x in ['formerly smoked',\n",
        "        'smokes', 'tried smoking once'] else 'never_smoked')\n",
        "\n",
        "\n",
        "## save as temp file\n",
        "df.to_csv('/content/healthcare-dataset-stroke-data.csv', index=False) # noqa\n"
      ],
      "metadata": {
        "id": "h6sxTl9VRDY_"
      },
      "execution_count": 4,
      "outputs": []
    },
    {
      "cell_type": "code",
      "source": [
        "## Research question:\n",
        "\n",
        "workdata = df[df['work_type'] == 'Private']\n",
        "\n",
        "# Split the data into two groups: smoked and never smoked\n",
        "smokedata = workdata[workdata['did_smoke'] == 'smoked']['bmi']\n",
        "nonsmokedata = workdata[workdata['did_smoke'] == 'never_smoked']['bmi'] # noqa\n",
        "\n",
        "t_stat, p_val = ttest_ind(smokedata, nonsmokedata, equal_var=False)  # Assuming unequal variances with Welch's t-test # noqa\n",
        "\n",
        "print(f\"T-statistic: {t_stat}\")\n",
        "print(f\"P-value: {p_val}\")"
      ],
      "metadata": {
        "colab": {
          "base_uri": "https://localhost:8080/"
        },
        "id": "Bp9bvoNUVBil",
        "outputId": "375369be-56a9-4630-a2a7-5535dbb99ded"
      },
      "execution_count": 5,
      "outputs": [
        {
          "output_type": "stream",
          "name": "stdout",
          "text": [
            "T-statistic: 0.45342503799438194\n",
            "P-value: 0.6502810884584684\n"
          ]
        }
      ]
    },
    {
      "cell_type": "code",
      "source": [
        "# Compute means for southern and non-southern data\n",
        "smokemean = smokedata.mean()\n",
        "nonsmokemean = nonsmokedata.mean()\n",
        "\n",
        "print(f\"Mean prevalence for smokers: {smokemean}\")\n",
        "print(f\"Mean prevalence for non-smokers: {nonsmokemean}\")"
      ],
      "metadata": {
        "colab": {
          "base_uri": "https://localhost:8080/"
        },
        "id": "x1w4zq63d6bP",
        "outputId": "f815c817-5bd3-463a-9471-e3ae8ce49dc5"
      },
      "execution_count": 6,
      "outputs": [
        {
          "output_type": "stream",
          "name": "stdout",
          "text": [
            "Mean prevalence for smokers: 30.259743290548425\n",
            "Mean prevalence for non-smokers: 30.132369942196533\n"
          ]
        }
      ]
    },
    {
      "cell_type": "markdown",
      "source": [
        "For this T-test I used a Stroke Prediction Dataset from Kaggle (link in read me of repo). I created a new binary variable based on the smoking_status variable, where the value will be smoke/smoked or never smoked/smoked once. I added this to the dataset as a new column. I wanted to see if smoking impacted BMI in people who work privately. Using data from only people who worked privately, I obtained the data for people who smoked and never smoked and found out the T-stat and p-value. Finally I obtained the mean BMI prevalence for smokers and non-smokers and was able to conclude the following.\n",
        "\n",
        "\n",
        "The mean BMI prevalence for smokers and non-smokers who both work private jobs is almost the same. This shows that the BMI of those who smoke (only private jobs) and those who never smoked (private jobs) have the same mean BMI prevalence thus we reject the null hypothesis and accept the alternative."
      ],
      "metadata": {
        "id": "XvFMzL13fA75"
      }
    }
  ]
}